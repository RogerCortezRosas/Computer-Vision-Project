{
  "cells": [
    {
      "cell_type": "code",
      "execution_count": 1,
      "metadata": {
        "id": "ghMNcPwTyXEs"
      },
      "outputs": [],
      "source": [
        "import os\n",
        "import zipfile"
      ]
    },
    {
      "cell_type": "code",
      "execution_count": 5,
      "metadata": {
        "id": "70Z7VaBTy539"
      },
      "outputs": [],
      "source": [
        "local_zip = \"dataset.zip\"\n",
        "zip_ref = zipfile.ZipFile(local_zip,\"r\")\n",
        "zip_ref.extractall(\"dataset\")\n",
        "zip_ref.close()"
      ]
    },
    {
      "cell_type": "code",
      "execution_count": null,
      "metadata": {
        "id": "UbGr08ipzoFE"
      },
      "outputs": [],
      "source": [
        "#Create a list with all the images\n",
        "path = \"dataset/dataset\"\n",
        "list_images = os.listdir(path)"
      ]
    },
    {
      "cell_type": "code",
      "execution_count": 3,
      "metadata": {
        "collapsed": true,
        "id": "Rr9jL5jK0LLf"
      },
      "outputs": [],
      "source": [
        "# Create the carpets where the images train and test will be store\n",
        "path_general = \"Finaldatset\"\n",
        "path_train = \"{}/train\".format(path_general)\n",
        "path_test = \"{}/test\".format(path_general)\n",
        "os.mkdir(path_general)\n",
        "os.mkdir(path_train)\n",
        "os.mkdir(path_test)"
      ]
    },
    {
      "cell_type": "code",
      "execution_count": 7,
      "metadata": {
        "id": "TnA43BrI1NeB"
      },
      "outputs": [],
      "source": [
        "import random\n",
        "import shutil # library to can move the files between carpets\n"
      ]
    },
    {
      "cell_type": "code",
      "execution_count": 9,
      "metadata": {
        "id": "feW-UYY11mbT"
      },
      "outputs": [],
      "source": [
        "# Divide the data in tran and test.With 70 % in train and 30% test.Take the images in random way\n",
        "\n",
        "train = 0.7\n",
        "\n",
        "for image in range (int(len(list_images)*train)):\n",
        "  random_choice_img = random.choice(list_images)\n",
        "  random_choice_img_abs = \"{}/{}\".format(path,random_choice_img)# The original carpet\n",
        "  target_img = \"{}/{}\".format(path_train,random_choice_img)# carpet where I wanna move the images\n",
        "  shutil.copyfile(random_choice_img_abs,target_img)# Copy from original carpet to final cartpet\n",
        "  list_images.remove(random_choice_img) # remove the image"
      ]
    },
    {
      "cell_type": "code",
      "execution_count": 10,
      "metadata": {
        "id": "qdZjDnruufmB"
      },
      "outputs": [],
      "source": [
        "for image in list_images:\n",
        "  original_carpet = \"{}/{}\".format(path,image)\n",
        "  target_carpet = \"{}/{}\".format(path_test,image)\n",
        "  shutil.copyfile(original_carpet,target_carpet)"
      ]
    },
    {
      "cell_type": "code",
      "execution_count": 11,
      "metadata": {
        "colab": {
          "base_uri": "https://localhost:8080/"
        },
        "id": "Y29Id5MvvIrv",
        "outputId": "14ab2671-cf87-4e09-e5e2-b271c933ef9d"
      },
      "outputs": [
        {
          "name": "stdout",
          "output_type": "stream",
          "text": [
            "  adding: Finaldatset/ (stored 0%)\n",
            "  adding: Finaldatset/test/ (stored 0%)\n",
            "  adding: Finaldatset/test/0414eb4d03.jpg (deflated 3%)\n",
            "  adding: Finaldatset/test/7490c9ba04.jpg (deflated 0%)\n",
            "  adding: Finaldatset/test/e9379064f8.jpg (deflated 0%)\n",
            "  adding: Finaldatset/test/c554e9b7b4.jpg (deflated 0%)\n",
            "  adding: Finaldatset/test/576c712438.jpg (deflated 1%)\n",
            "  adding: Finaldatset/test/e79711e10f.jpg (deflated 2%)\n",
            "  adding: Finaldatset/test/37e9f4c722.jpg (deflated 5%)\n",
            "  adding: Finaldatset/test/533dd3ae49.jpg (deflated 0%)\n",
            "  adding: Finaldatset/test/95614aebd9.jpg (deflated 3%)\n",
            "  adding: Finaldatset/test/744ca71f5a.jpg (deflated 0%)\n",
            "  adding: Finaldatset/test/e02950195f.jpg (deflated 0%)\n",
            "  adding: Finaldatset/test/abdbb7257d.jpg (deflated 1%)\n",
            "  adding: Finaldatset/test/ea2cb5917b.jpg (deflated 3%)\n",
            "  adding: Finaldatset/test/38073088aa.jpg (deflated 3%)\n",
            "  adding: Finaldatset/test/6f65ac7a0a.jpg (deflated 0%)\n",
            "  adding: Finaldatset/test/8a98fca468.jpg (deflated 1%)\n",
            "  adding: Finaldatset/test/8e933395c2.jpg (deflated 0%)\n",
            "  adding: Finaldatset/test/b59018d131.jpg (deflated 4%)\n",
            "  adding: Finaldatset/train/ (stored 0%)\n",
            "  adding: Finaldatset/train/e4927496c4.jpg (deflated 4%)\n",
            "  adding: Finaldatset/train/2fdd9eb661.jpg (deflated 0%)\n",
            "  adding: Finaldatset/train/18cf3b73b6.jpg (deflated 1%)\n",
            "  adding: Finaldatset/train/ea8ce9da21.jpg (deflated 0%)\n",
            "  adding: Finaldatset/train/2feaa7dff6.jpg (deflated 3%)\n",
            "  adding: Finaldatset/train/5cc8e6c42d.jpg (deflated 1%)\n",
            "  adding: Finaldatset/train/717e612946.jpg (deflated 3%)\n",
            "  adding: Finaldatset/train/93407ba6ac.jpg (deflated 0%)\n",
            "  adding: Finaldatset/train/fc15988c9a.jpg (deflated 4%)\n",
            "  adding: Finaldatset/train/b22ad30e1b.jpg (deflated 0%)\n",
            "  adding: Finaldatset/train/bf5b9af373.jpg (deflated 3%)\n",
            "  adding: Finaldatset/train/e22a1fc8c5.jpg (deflated 0%)\n",
            "  adding: Finaldatset/train/636e60da4d.jpg (deflated 5%)\n",
            "  adding: Finaldatset/train/39339a1089.jpg (deflated 0%)\n",
            "  adding: Finaldatset/train/07ffa35d1f.jpg (deflated 1%)\n",
            "  adding: Finaldatset/train/4848bc97c4.jpg (deflated 0%)\n",
            "  adding: Finaldatset/train/f74248c57f.jpg (deflated 0%)\n",
            "  adding: Finaldatset/train/3ec8255ddd.jpg (deflated 0%)\n",
            "  adding: Finaldatset/train/d01c4bbb38.jpg (deflated 1%)\n",
            "  adding: Finaldatset/train/2b37a718bc.jpg (deflated 0%)\n",
            "  adding: Finaldatset/train/cf8db02eac.jpg (deflated 1%)\n",
            "  adding: Finaldatset/train/3b2d25d42c.jpg (deflated 0%)\n",
            "  adding: Finaldatset/train/007d086a0d.jpg (deflated 5%)\n",
            "  adding: Finaldatset/train/89c26158c4.jpg (deflated 1%)\n",
            "  adding: Finaldatset/train/530a817c7a.jpg (deflated 0%)\n",
            "  adding: Finaldatset/train/66d55e26e2.jpg (deflated 0%)\n",
            "  adding: Finaldatset/train/486107bbf0.jpg (deflated 0%)\n",
            "  adding: Finaldatset/train/34db31dbb7.jpg (deflated 4%)\n",
            "  adding: Finaldatset/train/cbb99fc122.jpg (deflated 0%)\n",
            "  adding: Finaldatset/train/6450b21594.jpg (deflated 1%)\n",
            "  adding: Finaldatset/train/c4054a8f2c.jpg (deflated 2%)\n",
            "  adding: Finaldatset/train/f8a2cc7848.jpg (deflated 3%)\n",
            "  adding: Finaldatset/train/2c7120c43a.jpg (deflated 1%)\n",
            "  adding: Finaldatset/train/53f2146ec4.jpg (deflated 0%)\n",
            "  adding: Finaldatset/train/2c3ae2799b.jpg (deflated 0%)\n",
            "  adding: Finaldatset/train/2efb6c3c82.jpg (deflated 5%)\n",
            "  adding: Finaldatset/train/1180fcd71f.jpg (deflated 1%)\n",
            "  adding: Finaldatset/train/0c535fcdfa.jpg (deflated 0%)\n",
            "  adding: Finaldatset/train/42e14b904b.jpg (deflated 3%)\n"
          ]
        }
      ],
      "source": [
        "#Download the carpet with train and test data\n",
        "!zip -r Finaldatset.zip Finaldatset"
      ]
    }
  ],
  "metadata": {
    "colab": {
      "provenance": []
    },
    "kernelspec": {
      "display_name": "Python 3",
      "name": "python3"
    },
    "language_info": {
      "name": "python"
    }
  },
  "nbformat": 4,
  "nbformat_minor": 0
}
