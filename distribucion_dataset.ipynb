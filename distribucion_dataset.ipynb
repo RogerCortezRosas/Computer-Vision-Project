{
  "nbformat": 4,
  "nbformat_minor": 0,
  "metadata": {
    "colab": {
      "provenance": []
    },
    "kernelspec": {
      "name": "python3",
      "display_name": "Python 3"
    },
    "language_info": {
      "name": "python"
    }
  },
  "cells": [
    {
      "cell_type": "code",
      "execution_count": null,
      "metadata": {
        "id": "ghMNcPwTyXEs"
      },
      "outputs": [],
      "source": [
        "import os\n",
        "import zipfile"
      ]
    },
    {
      "cell_type": "code",
      "source": [
        "local_zip = \"dataset_filtrado.zip\"\n",
        "zip_ref = zipfile.ZipFile(local_zip,\"r\")\n",
        "zip_ref.extractall(\"dataset\")\n",
        "zip_ref.close()"
      ],
      "metadata": {
        "id": "70Z7VaBTy539"
      },
      "execution_count": null,
      "outputs": []
    },
    {
      "cell_type": "code",
      "source": [
        "#Create a list with all the images\n",
        "path = \"dataset/dataset_filtrado\"\n",
        "images = os.listdir(path)"
      ],
      "metadata": {
        "id": "UbGr08ipzoFE"
      },
      "execution_count": null,
      "outputs": []
    },
    {
      "cell_type": "code",
      "source": [
        "# Create the carpets where the images train and test will be store\n",
        "path_general = \"Finaldatset\"\n",
        "path_train = \"{}/train\".format(path_general)\n",
        "path_test = \"{}/test\".format(path_general)\n",
        "os.mkdir(path_general)\n",
        "os.mkdir(path_train)\n",
        "os.mkdir(path_test)"
      ],
      "metadata": {
        "collapsed": true,
        "id": "Rr9jL5jK0LLf"
      },
      "execution_count": null,
      "outputs": []
    },
    {
      "cell_type": "code",
      "source": [
        "import random\n",
        "import shutil # library to can move the files between carpets\n"
      ],
      "metadata": {
        "id": "TnA43BrI1NeB"
      },
      "execution_count": null,
      "outputs": []
    },
    {
      "cell_type": "code",
      "source": [
        "# Divide the data in tran and test.With 70 % in train and 30% test.Take the images in random way\n",
        "\n",
        "train = 0.7\n",
        "\n",
        "for image in range (int(len(images)*train)):\n",
        "  random_choice_img = random.choice(images)\n",
        "  random_choice_img_abs = \"{}/{}\".format(path+\"/dataset_filtrado\",random_choice_img)# The original carpet\n",
        "  target_img = \"{}/{}\".format(path_train,images)# carpet where I wanna move the images\n",
        "  shutil.copyfile(random_choice_img_abs,target_img)# Copy from original carpet to final cartpet\n",
        "  images.remove(random_choice_img) # remove the image"
      ],
      "metadata": {
        "id": "feW-UYY11mbT"
      },
      "execution_count": null,
      "outputs": []
    }
  ]
}