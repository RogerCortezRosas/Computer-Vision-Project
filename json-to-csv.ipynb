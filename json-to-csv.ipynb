{
 "cells": [
  {
   "cell_type": "code",
   "execution_count": 1,
   "id": "584a9a5e",
   "metadata": {},
   "outputs": [],
   "source": [
    "import json\n",
    "import pickle\n",
    "import zipfile\n",
    "import pandas as pd"
   ]
  },
  {
   "cell_type": "code",
   "execution_count": 2,
   "id": "e035dcf6",
   "metadata": {},
   "outputs": [
    {
     "name": "stdout",
     "output_type": "stream",
     "text": [
      "Note: you may need to restart the kernel to use updated packages.\n"
     ]
    },
    {
     "name": "stderr",
     "output_type": "stream",
     "text": [
      "\n",
      "[notice] A new release of pip is available: 25.0.1 -> 25.1.1\n",
      "[notice] To update, run: python.exe -m pip install --upgrade pip\n"
     ]
    },
    {
     "name": "stdout",
     "output_type": "stream",
     "text": [
      "Collecting tf_slim\n",
      "  Downloading tf_slim-1.1.0-py2.py3-none-any.whl.metadata (1.6 kB)\n",
      "Requirement already satisfied: absl-py>=0.2.2 in c:\\users\\rogel\\appdata\\local\\programs\\python\\python310\\lib\\site-packages (from tf_slim) (2.1.0)\n",
      "Downloading tf_slim-1.1.0-py2.py3-none-any.whl (352 kB)\n",
      "Installing collected packages: tf_slim\n",
      "Successfully installed tf_slim-1.1.0\n"
     ]
    }
   ],
   "source": [
    "%pip install tf_slim"
   ]
  },
  {
   "cell_type": "code",
   "execution_count": 3,
   "id": "930f1870",
   "metadata": {},
   "outputs": [],
   "source": [
    "local_zip = 'Finaldatset.zip'\n",
    "zip_ref = zipfile.ZipFile(local_zip, 'r')\n",
    "zip_ref.extractall('Finaldatset')\n",
    "zip_ref.close()"
   ]
  },
  {
   "cell_type": "code",
   "execution_count": 2,
   "id": "4158563d",
   "metadata": {},
   "outputs": [],
   "source": [
    "type_file ='test'\n",
    "path = 'test.json'\n",
    "data_file = open(path, 'r')\n",
    "data = json.load(data_file)"
   ]
  },
  {
   "cell_type": "code",
   "execution_count": 3,
   "id": "1af33c1f",
   "metadata": {},
   "outputs": [],
   "source": [
    "csv_list = []\n",
    "\n",
    "for classification in data:\n",
    "    width,height = classification['width'], classification['height']\n",
    "    image = classification['image']\n",
    "    for item in classification['tags']:\n",
    "        name = item['name']\n",
    "        xmin = item['pos']['x']\n",
    "        ymin = item['pos']['y']\n",
    "        xmax = xmin + item['pos']['w']\n",
    "        ymax = ymin + item['pos']['h']\n",
    "\n",
    "        value = (image,width,height,name,xmin,ymin,xmax,ymax)\n",
    "        csv_list.append(value)"
   ]
  },
  {
   "cell_type": "code",
   "execution_count": 4,
   "id": "78870a2c",
   "metadata": {},
   "outputs": [],
   "source": [
    "column_name = ['filename','width','height','class','xmin','ymin','xmax','ymax']"
   ]
  },
  {
   "cell_type": "code",
   "execution_count": 5,
   "id": "855273bf",
   "metadata": {},
   "outputs": [],
   "source": [
    "csv_df = pd.DataFrame(csv_list, columns=column_name)"
   ]
  },
  {
   "cell_type": "code",
   "execution_count": 6,
   "id": "b7e5b18e",
   "metadata": {},
   "outputs": [
    {
     "data": {
      "text/html": [
       "<div>\n",
       "<style scoped>\n",
       "    .dataframe tbody tr th:only-of-type {\n",
       "        vertical-align: middle;\n",
       "    }\n",
       "\n",
       "    .dataframe tbody tr th {\n",
       "        vertical-align: top;\n",
       "    }\n",
       "\n",
       "    .dataframe thead th {\n",
       "        text-align: right;\n",
       "    }\n",
       "</style>\n",
       "<table border=\"1\" class=\"dataframe\">\n",
       "  <thead>\n",
       "    <tr style=\"text-align: right;\">\n",
       "      <th></th>\n",
       "      <th>filename</th>\n",
       "      <th>width</th>\n",
       "      <th>height</th>\n",
       "      <th>class</th>\n",
       "      <th>xmin</th>\n",
       "      <th>ymin</th>\n",
       "      <th>xmax</th>\n",
       "      <th>ymax</th>\n",
       "    </tr>\n",
       "  </thead>\n",
       "  <tbody>\n",
       "    <tr>\n",
       "      <th>0</th>\n",
       "      <td>8a98fca468.jpg</td>\n",
       "      <td>512</td>\n",
       "      <td>342</td>\n",
       "      <td>carro</td>\n",
       "      <td>56.000000</td>\n",
       "      <td>127.500000</td>\n",
       "      <td>245.000000</td>\n",
       "      <td>258.500000</td>\n",
       "    </tr>\n",
       "    <tr>\n",
       "      <th>1</th>\n",
       "      <td>6f65ac7a0a.jpg</td>\n",
       "      <td>681</td>\n",
       "      <td>1023</td>\n",
       "      <td>motos</td>\n",
       "      <td>128.037484</td>\n",
       "      <td>363.964422</td>\n",
       "      <td>447.806226</td>\n",
       "      <td>798.121982</td>\n",
       "    </tr>\n",
       "    <tr>\n",
       "      <th>2</th>\n",
       "      <td>37e9f4c722.jpg</td>\n",
       "      <td>1280</td>\n",
       "      <td>720</td>\n",
       "      <td>carro</td>\n",
       "      <td>176.000000</td>\n",
       "      <td>316.500000</td>\n",
       "      <td>202.000000</td>\n",
       "      <td>336.500000</td>\n",
       "    </tr>\n",
       "    <tr>\n",
       "      <th>3</th>\n",
       "      <td>37e9f4c722.jpg</td>\n",
       "      <td>1280</td>\n",
       "      <td>720</td>\n",
       "      <td>carro</td>\n",
       "      <td>25.000000</td>\n",
       "      <td>304.500000</td>\n",
       "      <td>62.000000</td>\n",
       "      <td>325.500000</td>\n",
       "    </tr>\n",
       "    <tr>\n",
       "      <th>4</th>\n",
       "      <td>37e9f4c722.jpg</td>\n",
       "      <td>1280</td>\n",
       "      <td>720</td>\n",
       "      <td>carro</td>\n",
       "      <td>75.000000</td>\n",
       "      <td>306.500000</td>\n",
       "      <td>103.000000</td>\n",
       "      <td>324.500000</td>\n",
       "    </tr>\n",
       "    <tr>\n",
       "      <th>...</th>\n",
       "      <td>...</td>\n",
       "      <td>...</td>\n",
       "      <td>...</td>\n",
       "      <td>...</td>\n",
       "      <td>...</td>\n",
       "      <td>...</td>\n",
       "      <td>...</td>\n",
       "      <td>...</td>\n",
       "    </tr>\n",
       "    <tr>\n",
       "      <th>67</th>\n",
       "      <td>c554e9b7b4.jpg</td>\n",
       "      <td>1024</td>\n",
       "      <td>768</td>\n",
       "      <td>carro</td>\n",
       "      <td>963.000000</td>\n",
       "      <td>404.500000</td>\n",
       "      <td>1018.000000</td>\n",
       "      <td>507.500000</td>\n",
       "    </tr>\n",
       "    <tr>\n",
       "      <th>68</th>\n",
       "      <td>c554e9b7b4.jpg</td>\n",
       "      <td>1024</td>\n",
       "      <td>768</td>\n",
       "      <td>carro</td>\n",
       "      <td>262.000000</td>\n",
       "      <td>382.500000</td>\n",
       "      <td>371.000000</td>\n",
       "      <td>489.500000</td>\n",
       "    </tr>\n",
       "    <tr>\n",
       "      <th>69</th>\n",
       "      <td>c554e9b7b4.jpg</td>\n",
       "      <td>1024</td>\n",
       "      <td>768</td>\n",
       "      <td>carro</td>\n",
       "      <td>0.000000</td>\n",
       "      <td>478.500000</td>\n",
       "      <td>37.000000</td>\n",
       "      <td>513.500000</td>\n",
       "    </tr>\n",
       "    <tr>\n",
       "      <th>70</th>\n",
       "      <td>c554e9b7b4.jpg</td>\n",
       "      <td>1024</td>\n",
       "      <td>768</td>\n",
       "      <td>carro</td>\n",
       "      <td>202.000000</td>\n",
       "      <td>474.500000</td>\n",
       "      <td>255.000000</td>\n",
       "      <td>506.500000</td>\n",
       "    </tr>\n",
       "    <tr>\n",
       "      <th>71</th>\n",
       "      <td>ea2cb5917b.jpg</td>\n",
       "      <td>800</td>\n",
       "      <td>599</td>\n",
       "      <td>carro</td>\n",
       "      <td>470.000000</td>\n",
       "      <td>162.000000</td>\n",
       "      <td>800.000000</td>\n",
       "      <td>594.000000</td>\n",
       "    </tr>\n",
       "  </tbody>\n",
       "</table>\n",
       "<p>72 rows × 8 columns</p>\n",
       "</div>"
      ],
      "text/plain": [
       "          filename  width  height  class        xmin        ymin         xmax  \\\n",
       "0   8a98fca468.jpg    512     342  carro   56.000000  127.500000   245.000000   \n",
       "1   6f65ac7a0a.jpg    681    1023  motos  128.037484  363.964422   447.806226   \n",
       "2   37e9f4c722.jpg   1280     720  carro  176.000000  316.500000   202.000000   \n",
       "3   37e9f4c722.jpg   1280     720  carro   25.000000  304.500000    62.000000   \n",
       "4   37e9f4c722.jpg   1280     720  carro   75.000000  306.500000   103.000000   \n",
       "..             ...    ...     ...    ...         ...         ...          ...   \n",
       "67  c554e9b7b4.jpg   1024     768  carro  963.000000  404.500000  1018.000000   \n",
       "68  c554e9b7b4.jpg   1024     768  carro  262.000000  382.500000   371.000000   \n",
       "69  c554e9b7b4.jpg   1024     768  carro    0.000000  478.500000    37.000000   \n",
       "70  c554e9b7b4.jpg   1024     768  carro  202.000000  474.500000   255.000000   \n",
       "71  ea2cb5917b.jpg    800     599  carro  470.000000  162.000000   800.000000   \n",
       "\n",
       "          ymax  \n",
       "0   258.500000  \n",
       "1   798.121982  \n",
       "2   336.500000  \n",
       "3   325.500000  \n",
       "4   324.500000  \n",
       "..         ...  \n",
       "67  507.500000  \n",
       "68  489.500000  \n",
       "69  513.500000  \n",
       "70  506.500000  \n",
       "71  594.000000  \n",
       "\n",
       "[72 rows x 8 columns]"
      ]
     },
     "execution_count": 6,
     "metadata": {},
     "output_type": "execute_result"
    }
   ],
   "source": [
    "csv_df"
   ]
  },
  {
   "cell_type": "code",
   "execution_count": null,
   "id": "4aedcfa6",
   "metadata": {},
   "outputs": [],
   "source": [
    "csv_df.to_csv('test.csv', index=False)"
   ]
  }
 ],
 "metadata": {
  "kernelspec": {
   "display_name": "Python 3",
   "language": "python",
   "name": "python3"
  },
  "language_info": {
   "codemirror_mode": {
    "name": "ipython",
    "version": 3
   },
   "file_extension": ".py",
   "mimetype": "text/x-python",
   "name": "python",
   "nbconvert_exporter": "python",
   "pygments_lexer": "ipython3",
   "version": "3.10.0"
  }
 },
 "nbformat": 4,
 "nbformat_minor": 5
}
