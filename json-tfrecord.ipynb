{
 "cells": [
  {
   "cell_type": "code",
   "execution_count": 8,
   "id": "584a9a5e",
   "metadata": {},
   "outputs": [],
   "source": [
    "import json\n",
    "import pickle\n",
    "import zipfile\n",
    "import pandas as pd"
   ]
  },
  {
   "cell_type": "code",
   "execution_count": 2,
   "id": "e035dcf6",
   "metadata": {},
   "outputs": [
    {
     "name": "stdout",
     "output_type": "stream",
     "text": [
      "Note: you may need to restart the kernel to use updated packages.\n"
     ]
    },
    {
     "name": "stderr",
     "output_type": "stream",
     "text": [
      "\n",
      "[notice] A new release of pip is available: 25.0.1 -> 25.1.1\n",
      "[notice] To update, run: python.exe -m pip install --upgrade pip\n"
     ]
    },
    {
     "name": "stdout",
     "output_type": "stream",
     "text": [
      "Collecting tf_slim\n",
      "  Downloading tf_slim-1.1.0-py2.py3-none-any.whl.metadata (1.6 kB)\n",
      "Requirement already satisfied: absl-py>=0.2.2 in c:\\users\\rogel\\appdata\\local\\programs\\python\\python310\\lib\\site-packages (from tf_slim) (2.1.0)\n",
      "Downloading tf_slim-1.1.0-py2.py3-none-any.whl (352 kB)\n",
      "Installing collected packages: tf_slim\n",
      "Successfully installed tf_slim-1.1.0\n"
     ]
    }
   ],
   "source": [
    "%pip install tf_slim"
   ]
  },
  {
   "cell_type": "code",
   "execution_count": 3,
   "id": "930f1870",
   "metadata": {},
   "outputs": [],
   "source": [
    "local_zip = 'Finaldatset.zip'\n",
    "zip_ref = zipfile.ZipFile(local_zip, 'r')\n",
    "zip_ref.extractall('Finaldatset')\n",
    "zip_ref.close()"
   ]
  },
  {
   "cell_type": "code",
   "execution_count": 12,
   "id": "4158563d",
   "metadata": {},
   "outputs": [],
   "source": [
    "type_file ='test'\n",
    "path = 'test.json'\n",
    "data_file = open(path, 'r')\n",
    "data = json.load(data_file)"
   ]
  },
  {
   "cell_type": "code",
   "execution_count": 13,
   "id": "1af33c1f",
   "metadata": {},
   "outputs": [],
   "source": [
    "csv_list = []\n",
    "\n",
    "for classification in data:\n",
    "    width,height = classification['width'], classification['height']\n",
    "    image = classification['image']\n",
    "    for item in classification['tags']:\n",
    "        name = item['name']\n",
    "        xmin = item['pos']['x']\n",
    "        ymin = item['pos']['y']\n",
    "        xmax = xmin + item['pos']['w']\n",
    "        ymax = ymin + item['pos']['h']\n",
    "\n",
    "        value = (image,width,height,name,xmin,ymin,xmax,ymax)\n",
    "        csv_list.append(value)"
   ]
  },
  {
   "cell_type": "code",
   "execution_count": 7,
   "id": "78870a2c",
   "metadata": {},
   "outputs": [],
   "source": [
    "column_name = ['filename','width','height','class','xmin','ymin','xmax','ymax']"
   ]
  },
  {
   "cell_type": "code",
   "execution_count": 14,
   "id": "855273bf",
   "metadata": {},
   "outputs": [],
   "source": [
    "csv_df = pd.DataFrame(csv_list, columns=column_name)"
   ]
  },
  {
   "cell_type": "code",
   "execution_count": 15,
   "id": "4aedcfa6",
   "metadata": {},
   "outputs": [],
   "source": [
    "csv_df.to_csv('test.csv', index=False)"
   ]
  }
 ],
 "metadata": {
  "kernelspec": {
   "display_name": "Python 3",
   "language": "python",
   "name": "python3"
  },
  "language_info": {
   "codemirror_mode": {
    "name": "ipython",
    "version": 3
   },
   "file_extension": ".py",
   "mimetype": "text/x-python",
   "name": "python",
   "nbconvert_exporter": "python",
   "pygments_lexer": "ipython3",
   "version": "3.10.0"
  }
 },
 "nbformat": 4,
 "nbformat_minor": 5
}
